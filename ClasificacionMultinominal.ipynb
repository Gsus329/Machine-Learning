{
  "nbformat": 4,
  "nbformat_minor": 0,
  "metadata": {
    "colab": {
      "provenance": [],
      "authorship_tag": "ABX9TyPzzUhNWsDOzivDrXDUdgGb",
      "include_colab_link": true
    },
    "kernelspec": {
      "name": "python3",
      "display_name": "Python 3"
    },
    "language_info": {
      "name": "python"
    }
  },
  "cells": [
    {
      "cell_type": "markdown",
      "metadata": {
        "id": "view-in-github",
        "colab_type": "text"
      },
      "source": [
        "<a href=\"https://colab.research.google.com/github/Gsus329/Machine-Learning/blob/main/ClasificacionMultinominal.ipynb\" target=\"_parent\"><img src=\"https://colab.research.google.com/assets/colab-badge.svg\" alt=\"Open In Colab\"/></a>"
      ]
    },
    {
      "cell_type": "markdown",
      "source": [
        "Como ejemplo se va a utilizar el conjunto de datosfetch_20newsgroup\n",
        "que contiene noticias de 20 grupos diferentes cada uno correspondiente a una categoría ya divididos entre entrenamiento y test.\n",
        "\n",
        "Para construir un clasificador se centrará el ejemplo en las clases relacionadas con el deporte y el motor (’rec.autos’,\n",
        "’rec.motorcycles’, ’rec.sport.baseball’, ’rec.sport.hockey’).\n",
        "\n",
        "\n",
        "Para procesar texto es necesario en primer lugar transformar ese texto en forma de vector numérico por el cual cada característica será una palabra distinta y el valor de esa característica para cada elemento (noticia) será el número de veces (normalizado) que aparece esa palabra en la noticia correspondiente.\n"
      ],
      "metadata": {
        "id": "_BzjB_YkJz6q"
      }
    },
    {
      "cell_type": "code",
      "execution_count": 2,
      "metadata": {
        "colab": {
          "base_uri": "https://localhost:8080/"
        },
        "id": "Mjb24xHuJHMG",
        "outputId": "eaf56667-b61e-43ab-f49d-76d5578f302d"
      },
      "outputs": [
        {
          "output_type": "execute_result",
          "data": {
            "text/plain": [
              "0.9635220125786164"
            ]
          },
          "metadata": {},
          "execution_count": 2
        }
      ],
      "source": [
        "from sklearn.datasets import fetch_20newsgroups\n",
        "# Carga de Datos y selección de Categorías.\n",
        "data = fetch_20newsgroups()\n",
        "categories = ['rec.autos',\n",
        "'rec.motorcycles',\n",
        "'rec.sport.baseball',\n",
        "'rec.sport.hockey']\n",
        "\n",
        "# División entre train y test\n",
        "train = fetch_20newsgroups(subset='train', categories=categories)\n",
        "test = fetch_20newsgroups(subset='test', categories=categories)\n",
        "\n",
        "# Crear Características y establecer modelo clasificador\n",
        "from sklearn.feature_extraction.text import TfidfVectorizer\n",
        "from sklearn.naive_bayes import MultinomialNB\n",
        "from sklearn.pipeline import make_pipeline\n",
        "\n",
        "# Crear el Pipeline: transformación + clasificación\n",
        "model = make_pipeline(TfidfVectorizer(), MultinomialNB())\n",
        "\n",
        "# Entrenamiento y Predicción\n",
        "model.fit(train.data, train.target)\n",
        "labels = model.predict(test.data)\n",
        "\n",
        "# Evaluación mediante Accuracy/Exactitud\n",
        "from sklearn.metrics import accuracy_score\n",
        "accuracy_score(test.target, labels)"
      ]
    }
  ]
}