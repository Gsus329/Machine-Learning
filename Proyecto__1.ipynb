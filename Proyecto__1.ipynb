{
  "nbformat": 4,
  "nbformat_minor": 0,
  "metadata": {
    "colab": {
      "provenance": [],
      "authorship_tag": "ABX9TyOuln/XF35Im5Ye+p9s/Z+b",
      "include_colab_link": true
    },
    "kernelspec": {
      "name": "python3",
      "display_name": "Python 3"
    },
    "language_info": {
      "name": "python"
    }
  },
  "cells": [
    {
      "cell_type": "markdown",
      "metadata": {
        "id": "view-in-github",
        "colab_type": "text"
      },
      "source": [
        "<a href=\"https://colab.research.google.com/github/Gsus329/Machine-Learning/blob/main/Proyecto__1.ipynb\" target=\"_parent\"><img src=\"https://colab.research.google.com/assets/colab-badge.svg\" alt=\"Open In Colab\"/></a>"
      ]
    },
    {
      "cell_type": "markdown",
      "source": [
        "# **Obtener datos**"
      ],
      "metadata": {
        "id": "6Gy_BsEdEnpC"
      }
    },
    {
      "cell_type": "markdown",
      "source": [
        "¡Bienvenido a Machine Learning Housing Corp.! Su tarea es predecir el valor medio de las viviendas en los distritos de California, teniendo en cuenta una serie de características de estos distritos."
      ],
      "metadata": {
        "id": "mskRyfMnMHkF"
      }
    },
    {
      "cell_type": "markdown",
      "source": [
        "# Descargar Datos"
      ],
      "metadata": {
        "id": "YcgV3UqiMu6d"
      }
    },
    {
      "cell_type": "markdown",
      "source": [
        "Código para descargar los datos desde necesarios para nuestro sistema Machine Learning"
      ],
      "metadata": {
        "id": "eofgz4UiM3Cn"
      }
    },
    {
      "cell_type": "code",
      "source": [
        "from pathlib import Path\n",
        "import pandas as pd\n",
        "import tarfile\n",
        "import urllib.request\n",
        "\n",
        "def load_housing_data():\n",
        "    tarball_path = Path(\"datasets/housing.tgz\")\n",
        "    if not tarball_path.is_file():\n",
        "        Path(\"datasets\").mkdir(parents=True, exist_ok=True)\n",
        "        url = \"https://github.com/Gsus329/Machine-Learning/raw/main/Datos/housing.tgz\"\n",
        "        urllib.request.urlretrieve(url, tarball_path)\n",
        "        with tarfile.open(tarball_path) as housing_tarball:\n",
        "            housing_tarball.extractall(path=\"datasets\")\n",
        "    return pd.read_csv(Path(\"datasets/housing/housing.csv\"))\n",
        "\n",
        "housing = load_housing_data()"
      ],
      "metadata": {
        "id": "o5InfGQgNIYN"
      },
      "execution_count": null,
      "outputs": []
    }
  ]
}